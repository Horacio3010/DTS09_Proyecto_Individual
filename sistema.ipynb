{
 "cells": [
  {
   "cell_type": "code",
   "execution_count": 1,
   "metadata": {},
   "outputs": [],
   "source": [
    "import pandas as pd\n",
    "from sklearn.feature_extraction.text import TfidfVectorizer\n",
    "from sklearn.metrics.pairwise import cosine_similarity\n",
    "import pickle\n",
    "\n"
   ]
  },
  {
   "cell_type": "code",
   "execution_count": 7,
   "metadata": {},
   "outputs": [],
   "source": [
    "\n",
    "# Se cargaría el dataframe con la información sobre las películas y programas de televisión\n",
    "dfcatalogo = pd.read_csv(r'C:\\Users\\oomph\\Documents\\Henry Data Science\\DTS09_Proyecto_Individual\\df_catalogo_v2.csv')\n",
    "\n",
    "# remplace np.nan por una cadena vacía\n",
    "dfcatalogo = dfcatalogo.fillna('')"
   ]
  },
  {
   "cell_type": "code",
   "execution_count": 8,
   "metadata": {},
   "outputs": [],
   "source": [
    "\n",
    "# Se crea una instancia del vectorizador TfidfVectorizer con los parámetros deseados que se utilizarían para evaluar las descripciones de las películas o programas de televisión.\n",
    "vectorizer = TfidfVectorizer(stop_words='english', max_df=0.7)\n",
    "\n",
    "# Se aplica el vectorizador a las descripciones de las películas o programas de televisión en el DataFrame\n",
    "tfidf_matrix = vectorizer.fit_transform(dfcatalogo['description'])\n",
    "\n",
    "# Se utiliza la función cosine_similarity para generar una matriz de similitud\n",
    "similarity_matrix = cosine_similarity(tfidf_matrix, tfidf_matrix)\n",
    "\n",
    "# Se guarda la matriz de similitud en un archivo binario utilizando la función dump() de la biblioteca pickle\n",
    "with open('similarity_matrix.pickle', 'wb') as f:\n",
    "    pickle.dump(similarity_matrix, f)"
   ]
  },
  {
   "cell_type": "code",
   "execution_count": 4,
   "metadata": {},
   "outputs": [
    {
     "ename": "FileNotFoundError",
     "evalue": "[Errno 2] No such file or directory: 'similarity_matrix.pickle'",
     "output_type": "error",
     "traceback": [
      "\u001b[1;31m---------------------------------------------------------------------------\u001b[0m",
      "\u001b[1;31mFileNotFoundError\u001b[0m                         Traceback (most recent call last)",
      "\u001b[1;32mc:\\Users\\oomph\\Documents\\Henry Data Science\\DTS09_Proyecto_Individual\\sistema.ipynb Cell 2\u001b[0m in \u001b[0;36m5\n\u001b[0;32m      <a href='vscode-notebook-cell:/c%3A/Users/oomph/Documents/Henry%20Data%20Science/DTS09_Proyecto_Individual/sistema.ipynb#W5sZmlsZQ%3D%3D?line=1'>2</a>\u001b[0m dfcatalogo \u001b[39m=\u001b[39m pd\u001b[39m.\u001b[39mread_csv(\u001b[39mr\u001b[39m\u001b[39m'\u001b[39m\u001b[39mdf_catalogo_v2.csv\u001b[39m\u001b[39m'\u001b[39m, index_col\u001b[39m=\u001b[39m\u001b[39m'\u001b[39m\u001b[39mmovieId\u001b[39m\u001b[39m'\u001b[39m)\n\u001b[0;32m      <a href='vscode-notebook-cell:/c%3A/Users/oomph/Documents/Henry%20Data%20Science/DTS09_Proyecto_Individual/sistema.ipynb#W5sZmlsZQ%3D%3D?line=3'>4</a>\u001b[0m \u001b[39m# Cargar la matriz de similitud desde un archivo binario con la biblioteca pickle\u001b[39;00m\n\u001b[1;32m----> <a href='vscode-notebook-cell:/c%3A/Users/oomph/Documents/Henry%20Data%20Science/DTS09_Proyecto_Individual/sistema.ipynb#W5sZmlsZQ%3D%3D?line=4'>5</a>\u001b[0m \u001b[39mwith\u001b[39;00m \u001b[39mopen\u001b[39;49m(\u001b[39m'\u001b[39;49m\u001b[39msimilarity_matrix.pickle\u001b[39;49m\u001b[39m'\u001b[39;49m, \u001b[39m'\u001b[39;49m\u001b[39mrb\u001b[39;49m\u001b[39m'\u001b[39;49m) \u001b[39mas\u001b[39;00m f:\n\u001b[0;32m      <a href='vscode-notebook-cell:/c%3A/Users/oomph/Documents/Henry%20Data%20Science/DTS09_Proyecto_Individual/sistema.ipynb#W5sZmlsZQ%3D%3D?line=5'>6</a>\u001b[0m     similarity_matrix \u001b[39m=\u001b[39m pickle\u001b[39m.\u001b[39mload(f)\n",
      "File \u001b[1;32m~\\AppData\\Local\\Packages\\PythonSoftwareFoundation.Python.3.10_qbz5n2kfra8p0\\LocalCache\\local-packages\\Python310\\site-packages\\IPython\\core\\interactiveshell.py:282\u001b[0m, in \u001b[0;36m_modified_open\u001b[1;34m(file, *args, **kwargs)\u001b[0m\n\u001b[0;32m    275\u001b[0m \u001b[39mif\u001b[39;00m file \u001b[39min\u001b[39;00m {\u001b[39m0\u001b[39m, \u001b[39m1\u001b[39m, \u001b[39m2\u001b[39m}:\n\u001b[0;32m    276\u001b[0m     \u001b[39mraise\u001b[39;00m \u001b[39mValueError\u001b[39;00m(\n\u001b[0;32m    277\u001b[0m         \u001b[39mf\u001b[39m\u001b[39m\"\u001b[39m\u001b[39mIPython won\u001b[39m\u001b[39m'\u001b[39m\u001b[39mt let you open fd=\u001b[39m\u001b[39m{\u001b[39;00mfile\u001b[39m}\u001b[39;00m\u001b[39m by default \u001b[39m\u001b[39m\"\u001b[39m\n\u001b[0;32m    278\u001b[0m         \u001b[39m\"\u001b[39m\u001b[39mas it is likely to crash IPython. If you know what you are doing, \u001b[39m\u001b[39m\"\u001b[39m\n\u001b[0;32m    279\u001b[0m         \u001b[39m\"\u001b[39m\u001b[39myou can use builtins\u001b[39m\u001b[39m'\u001b[39m\u001b[39m open.\u001b[39m\u001b[39m\"\u001b[39m\n\u001b[0;32m    280\u001b[0m     )\n\u001b[1;32m--> 282\u001b[0m \u001b[39mreturn\u001b[39;00m io_open(file, \u001b[39m*\u001b[39margs, \u001b[39m*\u001b[39m\u001b[39m*\u001b[39mkwargs)\n",
      "\u001b[1;31mFileNotFoundError\u001b[0m: [Errno 2] No such file or directory: 'similarity_matrix.pickle'"
     ]
    }
   ],
   "source": [
    "\n",
    "# Cargar el DataFrame dfcatalogo desde donde esté almacenado\n",
    "dfcatalogo = pd.read_csv(r'C:\\Users\\oomph\\Documents\\Henry Data Science\\DTS09_Proyecto_Individual\\df_catalogo_v2.csv', index_col='movieId')\n",
    "\n",
    "# Cargar la matriz de similitud desde un archivo binario con la biblioteca pickle\n",
    "with open('similarity_matrix.pickle', 'rb') as f:\n",
    "    similarity_matrix = pickle.load(f)\n"
   ]
  },
  {
   "cell_type": "code",
   "execution_count": null,
   "metadata": {},
   "outputs": [],
   "source": [
    "# Función de recomendación\n",
    "def get_recommendation(title:str):\n",
    "    # Obtiene el índice de la película o programa de televisión en el DataFrame dfcatalogo que coincide con el título proporcionado\n",
    "    idx = dfcatalogo[dfcatalogo['title'] == title].index[0]\n",
    "    \n",
    "    # Obtiene las películas o programas de televisión similares utilizando la matriz de similitud\n",
    "    similar_movies = list(enumerate(similarity_matrix[idx]))\n",
    "    \n",
    "    # Ordena las películas o programas de televisión similares por similitud en orden descendente\n",
    "    similar_movies = sorted(similar_movies, key=lambda x: x[1], reverse=True)\n",
    "    \n",
    "    # Obtiene las 5 películas o programas de televisión más similares al título proporcionado\n",
    "    top_movies = [dfcatalogo.iloc[i[0]].title for i in similar_movies[1:6]]\n",
    "    \n",
    "    # Devuelve una respuesta que contiene las 5 películas o programas de televisión más similares al título proporcionado\n",
    "    return {'recommendation':top_movies}"
   ]
  }
 ],
 "metadata": {
  "kernelspec": {
   "display_name": "Python 3",
   "language": "python",
   "name": "python3"
  },
  "language_info": {
   "codemirror_mode": {
    "name": "ipython",
    "version": 3
   },
   "file_extension": ".py",
   "mimetype": "text/x-python",
   "name": "python",
   "nbconvert_exporter": "python",
   "pygments_lexer": "ipython3",
   "version": "3.10.11"
  },
  "orig_nbformat": 4
 },
 "nbformat": 4,
 "nbformat_minor": 2
}
