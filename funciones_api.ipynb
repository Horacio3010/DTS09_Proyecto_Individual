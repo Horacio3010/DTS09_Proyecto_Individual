{
 "cells": [
  {
   "cell_type": "code",
   "execution_count": 1,
   "metadata": {},
   "outputs": [],
   "source": [
    "import pandas as pd\n",
    "import numpy as np"
   ]
  },
  {
   "cell_type": "code",
   "execution_count": 2,
   "metadata": {},
   "outputs": [],
   "source": [
    "dfcatalogo = pd.read_csv(r'C:\\Users\\oomph\\Documents\\Henry Data Science\\Proyecto Individual V1\\df_catalogo_v2.csv')\n"
   ]
  },
  {
   "attachments": {},
   "cell_type": "markdown",
   "metadata": {},
   "source": [
    "funcion get max duration"
   ]
  },
  {
   "cell_type": "code",
   "execution_count": 27,
   "metadata": {},
   "outputs": [],
   "source": [
    "def get_max_duration(year, platform, duration_type):\n",
    "    # Filtrar el dataframe por tipo de contenido, año y plataforma\n",
    "    filtered_df = dfcatalogo[(dfcatalogo['type'] == 'movie') & \n",
    "                            (dfcatalogo['release_year'] == year) & \n",
    "                            (dfcatalogo['plataforma'] == platform)]\n",
    "    \n",
    "    # Obtener la película con la duración máxima en el tipo especificado\n",
    "    max_duration = filtered_df[filtered_df['duration_type'] == duration_type]['duration_int'].max()\n",
    "    max_duration_movie = filtered_df[(filtered_df['duration_int'] == max_duration) &\n",
    "                                     (filtered_df['duration_type'] == duration_type)]['title'].values\n",
    "    \n",
    "    # Verificar que el array de resultados no está vacío antes de intentar acceder a su primer elemento\n",
    "    if len(max_duration_movie) > 0:\n",
    "        return max_duration_movie[0]\n",
    "    else:\n",
    "        return ''"
   ]
  },
  {
   "cell_type": "code",
   "execution_count": 32,
   "metadata": {},
   "outputs": [
    {
     "name": "stdout",
     "output_type": "stream",
     "text": [
      "La película con duración máxima en el año 2016 en la plataforma amazon en min es: gentle evening rain\n"
     ]
    }
   ],
   "source": [
    "# Ejemplo de llamado a la función get_max_duration\n",
    "year = 2016\n",
    "platform = 'amazon'\n",
    "duration_type = 'min'\n",
    "\n",
    "max_duration_movie = get_max_duration(year, platform, duration_type)\n",
    "print(f'La película con duración máxima en el año {year} en la plataforma {platform} en {duration_type} es: {max_duration_movie}')"
   ]
  },
  {
   "cell_type": "code",
   "execution_count": 1,
   "metadata": {},
   "outputs": [],
   "source": [
    "def get_max_duration(year: int, platform: str, duration_type: str) -> dict:\n",
    "    # Filtrar el dataframe por tipo de contenido, año y plataforma\n",
    "    filtered_df = dfcatalogo[(dfcatalogo['type'] == 'movie') & \n",
    "                            (dfcatalogo['release_year'] == year) & \n",
    "                            (dfcatalogo['plataforma'] == platform)]\n",
    "    \n",
    "    # Obtener la película con la duración máxima en el tipo especificado\n",
    "    max_duration = filtered_df[filtered_df['duration_type'] == duration_type]['duration_int'].max()\n",
    "    max_duration_movie = filtered_df[(filtered_df['duration_int'] == max_duration) &\n",
    "                                     (filtered_df['duration_type'] == duration_type)]['title'].values\n",
    "    \n",
    "    # Verificar que el array de resultados no está vacío antes de intentar acceder a su primer elemento\n",
    "    if len(max_duration_movie) > 0:\n",
    "        return {'pelicula': max_duration_movie[0]}\n",
    "    else:\n",
    "        return {'pelicula': ''}"
   ]
  },
  {
   "cell_type": "code",
   "execution_count": 5,
   "metadata": {},
   "outputs": [
    {
     "name": "stdout",
     "output_type": "stream",
     "text": [
      "La película con duración máxima en el año 2016 en la plataforma amazon en min es: {'pelicula': 'gentle evening rain'}\n"
     ]
    }
   ],
   "source": [
    "# Ejemplo de llamado a la función get_max_duration\n",
    "year = 2016\n",
    "platform = 'amazon'\n",
    "duration_type = 'min'\n",
    "\n",
    "max_duration_movie = get_max_duration(year, platform, duration_type)\n",
    "print(f'La película con duración máxima en el año {year} en la plataforma {platform} en {duration_type} es: {max_duration_movie}')"
   ]
  },
  {
   "attachments": {},
   "cell_type": "markdown",
   "metadata": {},
   "source": [
    "funcion get score count"
   ]
  },
  {
   "cell_type": "code",
   "execution_count": 11,
   "metadata": {},
   "outputs": [],
   "source": [
    "def get_score_count(platform, scored, year):\n",
    "    # Select rows where type is \"movie\" and the platform matches\n",
    "    df_platform = dfcatalogo[(dfcatalogo['type'] == 'movie') & (dfcatalogo['plataforma'] == platform)]\n",
    "\n",
    "    # Filter by release year and rating\n",
    "    df_filtered = df_platform[(df_platform['release_year'] == year) & (df_platform['avg_rating'] >= float(scored))] # Modificación para convertir scored a float\n",
    "\n",
    "    # Return the row count as an integer\n",
    "    return int(df_filtered.shape[0])"
   ]
  },
  {
   "cell_type": "code",
   "execution_count": 12,
   "metadata": {},
   "outputs": [
    {
     "name": "stdout",
     "output_type": "stream",
     "text": [
      "El servicio de stream disney+ lanzó 34 películas con un puntaje mayor o igual a 1.45 en el año 2014.\n"
     ]
    }
   ],
   "source": [
    "# Ejemplo de llamado a la función get_score_count\n",
    "platform = 'disney+'\n",
    "scored = 1.45\n",
    "year = 2014\n",
    "\n",
    "count = get_score_count(platform, scored, year)\n",
    "\n",
    "print(f\"El servicio de stream {platform} lanzó {count} películas con un puntaje mayor o igual a {scored} en el año {year}.\")"
   ]
  },
  {
   "cell_type": "code",
   "execution_count": 16,
   "metadata": {},
   "outputs": [],
   "source": [
    "def get_score_count(df, plataforma, scored, anio):\n",
    "    # Seleccionar solo las películas de la plataforma y el año especificado\n",
    "    peliculas = df[(df['plataforma'] == plataforma) &\n",
    "                   (df['type'] == 'movie') &\n",
    "                   (df['release_year'] == anio)]\n",
    "    # Filtrar solo las películas con un puntaje mayor al especificado\n",
    "    peliculas_con_puntaje = peliculas[peliculas['avg_rating'] > scored]\n",
    "    # Obtener la cantidad de películas que cumplen los criterios\n",
    "    cantidad = len(peliculas_con_puntaje)\n",
    "    return {\n",
    "        'plataforma': plataforma,\n",
    "        'cantidad': cantidad,\n",
    "        'anio': anio,\n",
    "        'score': scored\n",
    "    }"
   ]
  },
  {
   "cell_type": "code",
   "execution_count": 17,
   "metadata": {},
   "outputs": [
    {
     "data": {
      "text/plain": [
       "{'plataforma': 'disney+', 'cantidad': 34, 'anio': 2014, 'score': 1.45}"
      ]
     },
     "execution_count": 17,
     "metadata": {},
     "output_type": "execute_result"
    }
   ],
   "source": [
    "get_score_count(dfcatalogo, 'disney+', 1.45, 2014)"
   ]
  },
  {
   "attachments": {},
   "cell_type": "markdown",
   "metadata": {},
   "source": [
    "funcion get count platform"
   ]
  },
  {
   "cell_type": "code",
   "execution_count": 18,
   "metadata": {},
   "outputs": [],
   "source": [
    "def get_count_platform(df, plataforma):\n",
    "    # Seleccionar solo las películas de la plataforma especificada\n",
    "    peliculas = df[(df['plataforma'] == plataforma) &\n",
    "                   (df['type'] == 'movie')]\n",
    "    # Obtener la cantidad de películas que cumplen los criterios\n",
    "    cantidad = len(peliculas)\n",
    "    return {\n",
    "        'plataforma': plataforma,\n",
    "        'peliculas': cantidad\n",
    "    }"
   ]
  },
  {
   "cell_type": "code",
   "execution_count": 19,
   "metadata": {},
   "outputs": [
    {
     "data": {
      "text/plain": [
       "{'plataforma': 'hulu', 'peliculas': 1484}"
      ]
     },
     "execution_count": 19,
     "metadata": {},
     "output_type": "execute_result"
    }
   ],
   "source": [
    "get_count_platform(dfcatalogo, 'hulu')"
   ]
  },
  {
   "attachments": {},
   "cell_type": "markdown",
   "metadata": {},
   "source": [
    "funcion get actor"
   ]
  },
  {
   "cell_type": "code",
   "execution_count": 13,
   "metadata": {},
   "outputs": [],
   "source": [
    "def get_actor(platform:str, year:int ):\n",
    "    # Filtramos el DataFrame según la plataforma y el año proporcionados\n",
    "    df_filtered = dfcatalogo[(dfcatalogo['plataforma'] == platform) & (dfcatalogo['release_year'] == year)]\n",
    "\n",
    "    # Separamos los nombres de los actores en una lista y eliminamos los valores nulos\n",
    "    actor_list = df_filtered['cast'].dropna().str.split(',').explode().str.strip()\n",
    "\n",
    "    # Contamos el número de veces que cada actor aparece en la lista\n",
    "    actor_counts = actor_list.value_counts()\n",
    "\n",
    "    # Devolvemos el nombre del actor que aparece con más frecuencia\n",
    "    respuesta = actor_counts.idxmax()\n",
    "\n",
    "    return {\n",
    "        'plataforma': platform,\n",
    "        'anio': year,\n",
    "        'actor': respuesta,\n",
    "        'apariciones': actor_counts[respuesta]\n",
    "    }"
   ]
  },
  {
   "cell_type": "code",
   "execution_count": 14,
   "metadata": {},
   "outputs": [
    {
     "name": "stdout",
     "output_type": "stream",
     "text": [
      "{'plataforma': 'amazon', 'anio': 2010, 'actor': 'cassandra peterson', 'apariciones': 10}\n"
     ]
    }
   ],
   "source": [
    "respuesta = get_actor('amazon', 2010)\n",
    "print(respuesta)"
   ]
  },
  {
   "attachments": {},
   "cell_type": "markdown",
   "metadata": {},
   "source": [
    "funcion prod per county"
   ]
  },
  {
   "cell_type": "code",
   "execution_count": 13,
   "metadata": {},
   "outputs": [],
   "source": [
    "def prod_per_county(tipo, pais, anio):\n",
    "    # Filtremos el dataframe dfcatalogo por el tipo de contenido, país y año dados\n",
    "    filtros = (dfcatalogo['type'] == tipo) & (dfcatalogo['country'] == pais) & (dfcatalogo['release_year'] == anio)\n",
    "    \n",
    "    # Contemos la cantidad de productos que cumplen con los criterios de filtro\n",
    "    count = dfcatalogo.loc[filtros].shape[0]\n",
    "    \n",
    "    # Creamos un diccionario con los resultados\n",
    "    resultado = {'pais': pais, 'anio': anio, tipo: count}\n",
    "    \n",
    "    # Devolvemos el diccionario\n",
    "    return resultado"
   ]
  },
  {
   "cell_type": "code",
   "execution_count": 22,
   "metadata": {},
   "outputs": [
    {
     "data": {
      "text/plain": [
       "{'pais': 'france', 'anio': 2020, 'tv show': 8}"
      ]
     },
     "execution_count": 22,
     "metadata": {},
     "output_type": "execute_result"
    }
   ],
   "source": [
    "prod_per_county('tv show', 'france', 2020)"
   ]
  },
  {
   "cell_type": "code",
   "execution_count": 11,
   "metadata": {},
   "outputs": [],
   "source": [
    "def prod_per_county(tipo: str, pais: str, anio: int):\n",
    "    # Filtramos el DataFrame según el tipo de contenido, el país y el año\n",
    "    df_filtered = dfcatalogo[(dfcatalogo['type'] == tipo) & (dfcatalogo['country'] == pais) & (dfcatalogo['release_year'] == anio)]\n",
    "\n",
    "    # Contamos el número total de elementos del DataFrame filtrado\n",
    "    total_peliculas = df_filtered.shape[0]\n",
    "\n",
    "    return {'pais': pais, \n",
    "            'anio': anio, \n",
    "            'total de contenido': total_peliculas,\n",
    "            'tipo_contenido': tipo}"
   ]
  },
  {
   "cell_type": "code",
   "execution_count": 12,
   "metadata": {},
   "outputs": [
    {
     "name": "stdout",
     "output_type": "stream",
     "text": [
      "{'pais': 'france', 'anio': 2020, 'total de contenido': 8, 'tipo_contenido': 'tv show'}\n"
     ]
    }
   ],
   "source": [
    "respuesta = prod_per_county('tv show', 'france', 2020,)\n",
    "print(respuesta)"
   ]
  },
  {
   "attachments": {},
   "cell_type": "markdown",
   "metadata": {},
   "source": [
    "funcion get contents"
   ]
  },
  {
   "cell_type": "code",
   "execution_count": 6,
   "metadata": {},
   "outputs": [],
   "source": [
    "def get_contents(rating: str):\n",
    "    # Utilizamos value_counts para contar el número de contenidos según el rating de audiencia\n",
    "    contenido = dfcatalogo['rating'].value_counts().get(rating, 0)\n",
    "\n",
    "    return {'rating': rating, 'contenido': contenido}"
   ]
  },
  {
   "cell_type": "code",
   "execution_count": 8,
   "metadata": {},
   "outputs": [
    {
     "name": "stdout",
     "output_type": "stream",
     "text": [
      "{'rating': 'r', 'contenido': 2154}\n"
     ]
    }
   ],
   "source": [
    "respuesta = get_contents('r')\n",
    "print(respuesta)"
   ]
  },
  {
   "cell_type": "code",
   "execution_count": 63,
   "metadata": {},
   "outputs": [
    {
     "data": {
      "text/html": [
       "<div>\n",
       "<style scoped>\n",
       "    .dataframe tbody tr th:only-of-type {\n",
       "        vertical-align: middle;\n",
       "    }\n",
       "\n",
       "    .dataframe tbody tr th {\n",
       "        vertical-align: top;\n",
       "    }\n",
       "\n",
       "    .dataframe thead th {\n",
       "        text-align: right;\n",
       "    }\n",
       "</style>\n",
       "<table border=\"1\" class=\"dataframe\">\n",
       "  <thead>\n",
       "    <tr style=\"text-align: right;\">\n",
       "      <th></th>\n",
       "      <th>show_id</th>\n",
       "      <th>type</th>\n",
       "      <th>title</th>\n",
       "      <th>director</th>\n",
       "      <th>cast</th>\n",
       "      <th>country</th>\n",
       "      <th>date_added</th>\n",
       "      <th>release_year</th>\n",
       "      <th>rating</th>\n",
       "      <th>duration</th>\n",
       "      <th>listed_in</th>\n",
       "      <th>description</th>\n",
       "      <th>plataforma</th>\n",
       "      <th>movieId</th>\n",
       "      <th>duration_int</th>\n",
       "      <th>duration_type</th>\n",
       "      <th>avg_rating</th>\n",
       "    </tr>\n",
       "  </thead>\n",
       "  <tbody>\n",
       "    <tr>\n",
       "      <th>10993</th>\n",
       "      <td>s1326</td>\n",
       "      <td>movie</td>\n",
       "      <td>the reluctant dragon</td>\n",
       "      <td>alfred werker</td>\n",
       "      <td>robert benchley, gerald mohr, alan ladd, flore...</td>\n",
       "      <td>united states</td>\n",
       "      <td>2019-11-12</td>\n",
       "      <td>1941</td>\n",
       "      <td>g</td>\n",
       "      <td>74 min</td>\n",
       "      <td>animation, comedy, family</td>\n",
       "      <td>robert benchley gives a behind-the-scenes look...</td>\n",
       "      <td>disney+</td>\n",
       "      <td>ds1326</td>\n",
       "      <td>74.0</td>\n",
       "      <td>min</td>\n",
       "      <td>3.389868</td>\n",
       "    </tr>\n",
       "    <tr>\n",
       "      <th>6517</th>\n",
       "      <td>s6518</td>\n",
       "      <td>tv show</td>\n",
       "      <td>the father</td>\n",
       "      <td>NaN</td>\n",
       "      <td>azat seitimetov, zhuldyz anuarova, alikhan bek...</td>\n",
       "      <td>NaN</td>\n",
       "      <td>NaN</td>\n",
       "      <td>2015</td>\n",
       "      <td>13+</td>\n",
       "      <td>1 season</td>\n",
       "      <td>drama</td>\n",
       "      <td>the story tells about the relationship between...</td>\n",
       "      <td>amazon</td>\n",
       "      <td>as6518</td>\n",
       "      <td>1.0</td>\n",
       "      <td>season</td>\n",
       "      <td>3.549779</td>\n",
       "    </tr>\n",
       "    <tr>\n",
       "      <th>2950</th>\n",
       "      <td>s2951</td>\n",
       "      <td>movie</td>\n",
       "      <td>bryan callen: never grow up</td>\n",
       "      <td>john brenkus</td>\n",
       "      <td>bryan callen</td>\n",
       "      <td>NaN</td>\n",
       "      <td>NaN</td>\n",
       "      <td>2017</td>\n",
       "      <td>g</td>\n",
       "      <td>58 min</td>\n",
       "      <td>arts, entertainment, and culture, comedy, spec...</td>\n",
       "      <td>comedy dynamics presents: bryan callen struggl...</td>\n",
       "      <td>amazon</td>\n",
       "      <td>as2951</td>\n",
       "      <td>58.0</td>\n",
       "      <td>min</td>\n",
       "      <td>3.564024</td>\n",
       "    </tr>\n",
       "    <tr>\n",
       "      <th>16229</th>\n",
       "      <td>s2039</td>\n",
       "      <td>movie</td>\n",
       "      <td>my octopus teacher</td>\n",
       "      <td>pippa ehrlich, james reed</td>\n",
       "      <td>NaN</td>\n",
       "      <td>south africa</td>\n",
       "      <td>2020-09-07</td>\n",
       "      <td>2020</td>\n",
       "      <td>tv-g</td>\n",
       "      <td>86 min</td>\n",
       "      <td>children &amp; family movies, documentaries, inter...</td>\n",
       "      <td>a filmmaker forges an unusual friendship with ...</td>\n",
       "      <td>netflix</td>\n",
       "      <td>ns2039</td>\n",
       "      <td>86.0</td>\n",
       "      <td>min</td>\n",
       "      <td>3.494152</td>\n",
       "    </tr>\n",
       "    <tr>\n",
       "      <th>21868</th>\n",
       "      <td>s7678</td>\n",
       "      <td>movie</td>\n",
       "      <td>operator</td>\n",
       "      <td>logan kibens</td>\n",
       "      <td>martin starr, mae whitman, nat faxon, cameron ...</td>\n",
       "      <td>united states</td>\n",
       "      <td>2017-02-16</td>\n",
       "      <td>2016</td>\n",
       "      <td>tv-ma</td>\n",
       "      <td>91 min</td>\n",
       "      <td>comedies, dramas, independent movies</td>\n",
       "      <td>when a programmer uses his wife's sympathetic ...</td>\n",
       "      <td>netflix</td>\n",
       "      <td>ns7678</td>\n",
       "      <td>91.0</td>\n",
       "      <td>min</td>\n",
       "      <td>3.557692</td>\n",
       "    </tr>\n",
       "    <tr>\n",
       "      <th>19509</th>\n",
       "      <td>s5319</td>\n",
       "      <td>movie</td>\n",
       "      <td>death note</td>\n",
       "      <td>adam wingard</td>\n",
       "      <td>willem dafoe, nat wolff, lakeith stanfield, ma...</td>\n",
       "      <td>united states</td>\n",
       "      <td>2017-08-25</td>\n",
       "      <td>2017</td>\n",
       "      <td>tv-ma</td>\n",
       "      <td>100 min</td>\n",
       "      <td>horror movies, thrillers</td>\n",
       "      <td>light turner finds a supernatural notebook and...</td>\n",
       "      <td>netflix</td>\n",
       "      <td>ns5319</td>\n",
       "      <td>100.0</td>\n",
       "      <td>min</td>\n",
       "      <td>3.513921</td>\n",
       "    </tr>\n",
       "    <tr>\n",
       "      <th>280</th>\n",
       "      <td>s281</td>\n",
       "      <td>movie</td>\n",
       "      <td>touch chesi chudu</td>\n",
       "      <td>vikram sirikonda</td>\n",
       "      <td>ravi teja, raashi khanna, seerat kapoor</td>\n",
       "      <td>india</td>\n",
       "      <td>NaN</td>\n",
       "      <td>2018</td>\n",
       "      <td>13+</td>\n",
       "      <td>142 min</td>\n",
       "      <td>drama, international, romance</td>\n",
       "      <td>karthikeya(ravi teja) is a businessman who kee...</td>\n",
       "      <td>amazon</td>\n",
       "      <td>as281</td>\n",
       "      <td>142.0</td>\n",
       "      <td>min</td>\n",
       "      <td>3.541580</td>\n",
       "    </tr>\n",
       "    <tr>\n",
       "      <th>7704</th>\n",
       "      <td>s7705</td>\n",
       "      <td>movie</td>\n",
       "      <td>stranger from shaolin</td>\n",
       "      <td>lu chun ku</td>\n",
       "      <td>wong hang sau, kao kang</td>\n",
       "      <td>NaN</td>\n",
       "      <td>NaN</td>\n",
       "      <td>1977</td>\n",
       "      <td>nr</td>\n",
       "      <td>94 min</td>\n",
       "      <td>action, drama</td>\n",
       "      <td>when her entire family is killed by the occupy...</td>\n",
       "      <td>amazon</td>\n",
       "      <td>as7705</td>\n",
       "      <td>94.0</td>\n",
       "      <td>min</td>\n",
       "      <td>3.525000</td>\n",
       "    </tr>\n",
       "    <tr>\n",
       "      <th>12689</th>\n",
       "      <td>s1572</td>\n",
       "      <td>tv show</td>\n",
       "      <td>digimon adventure:</td>\n",
       "      <td>NaN</td>\n",
       "      <td>NaN</td>\n",
       "      <td>NaN</td>\n",
       "      <td>2020-06-29</td>\n",
       "      <td>2020</td>\n",
       "      <td>g</td>\n",
       "      <td>1 season</td>\n",
       "      <td>anime</td>\n",
       "      <td>it's the year 2020. the network has become som...</td>\n",
       "      <td>hulu</td>\n",
       "      <td>hs1572</td>\n",
       "      <td>1.0</td>\n",
       "      <td>season</td>\n",
       "      <td>3.551948</td>\n",
       "    </tr>\n",
       "    <tr>\n",
       "      <th>10908</th>\n",
       "      <td>s1241</td>\n",
       "      <td>movie</td>\n",
       "      <td>the adventures of andré &amp; wally b.</td>\n",
       "      <td>alvy smith</td>\n",
       "      <td>NaN</td>\n",
       "      <td>united states</td>\n",
       "      <td>2019-11-12</td>\n",
       "      <td>1984</td>\n",
       "      <td>tv-g</td>\n",
       "      <td>2 min</td>\n",
       "      <td>animation, kids</td>\n",
       "      <td>andre awakens from a nap and is greeted by a p...</td>\n",
       "      <td>disney+</td>\n",
       "      <td>ds1241</td>\n",
       "      <td>2.0</td>\n",
       "      <td>min</td>\n",
       "      <td>3.601293</td>\n",
       "    </tr>\n",
       "  </tbody>\n",
       "</table>\n",
       "</div>"
      ],
      "text/plain": [
       "      show_id     type                               title  \\\n",
       "10993   s1326    movie                the reluctant dragon   \n",
       "6517    s6518  tv show                          the father   \n",
       "2950    s2951    movie         bryan callen: never grow up   \n",
       "16229   s2039    movie                  my octopus teacher   \n",
       "21868   s7678    movie                            operator   \n",
       "19509   s5319    movie                          death note   \n",
       "280      s281    movie                   touch chesi chudu   \n",
       "7704    s7705    movie               stranger from shaolin   \n",
       "12689   s1572  tv show                  digimon adventure:   \n",
       "10908   s1241    movie  the adventures of andré & wally b.   \n",
       "\n",
       "                        director  \\\n",
       "10993              alfred werker   \n",
       "6517                         NaN   \n",
       "2950                john brenkus   \n",
       "16229  pippa ehrlich, james reed   \n",
       "21868               logan kibens   \n",
       "19509               adam wingard   \n",
       "280             vikram sirikonda   \n",
       "7704                  lu chun ku   \n",
       "12689                        NaN   \n",
       "10908                 alvy smith   \n",
       "\n",
       "                                                    cast        country  \\\n",
       "10993  robert benchley, gerald mohr, alan ladd, flore...  united states   \n",
       "6517   azat seitimetov, zhuldyz anuarova, alikhan bek...            NaN   \n",
       "2950                                        bryan callen            NaN   \n",
       "16229                                                NaN   south africa   \n",
       "21868  martin starr, mae whitman, nat faxon, cameron ...  united states   \n",
       "19509  willem dafoe, nat wolff, lakeith stanfield, ma...  united states   \n",
       "280              ravi teja, raashi khanna, seerat kapoor          india   \n",
       "7704                             wong hang sau, kao kang            NaN   \n",
       "12689                                                NaN            NaN   \n",
       "10908                                                NaN  united states   \n",
       "\n",
       "       date_added  release_year rating  duration  \\\n",
       "10993  2019-11-12          1941      g    74 min   \n",
       "6517          NaN          2015    13+  1 season   \n",
       "2950          NaN          2017      g    58 min   \n",
       "16229  2020-09-07          2020   tv-g    86 min   \n",
       "21868  2017-02-16          2016  tv-ma    91 min   \n",
       "19509  2017-08-25          2017  tv-ma   100 min   \n",
       "280           NaN          2018    13+   142 min   \n",
       "7704          NaN          1977     nr    94 min   \n",
       "12689  2020-06-29          2020      g  1 season   \n",
       "10908  2019-11-12          1984   tv-g     2 min   \n",
       "\n",
       "                                               listed_in  \\\n",
       "10993                          animation, comedy, family   \n",
       "6517                                               drama   \n",
       "2950   arts, entertainment, and culture, comedy, spec...   \n",
       "16229  children & family movies, documentaries, inter...   \n",
       "21868               comedies, dramas, independent movies   \n",
       "19509                           horror movies, thrillers   \n",
       "280                        drama, international, romance   \n",
       "7704                                       action, drama   \n",
       "12689                                              anime   \n",
       "10908                                    animation, kids   \n",
       "\n",
       "                                             description plataforma movieId  \\\n",
       "10993  robert benchley gives a behind-the-scenes look...    disney+  ds1326   \n",
       "6517   the story tells about the relationship between...     amazon  as6518   \n",
       "2950   comedy dynamics presents: bryan callen struggl...     amazon  as2951   \n",
       "16229  a filmmaker forges an unusual friendship with ...    netflix  ns2039   \n",
       "21868  when a programmer uses his wife's sympathetic ...    netflix  ns7678   \n",
       "19509  light turner finds a supernatural notebook and...    netflix  ns5319   \n",
       "280    karthikeya(ravi teja) is a businessman who kee...     amazon   as281   \n",
       "7704   when her entire family is killed by the occupy...     amazon  as7705   \n",
       "12689  it's the year 2020. the network has become som...       hulu  hs1572   \n",
       "10908  andre awakens from a nap and is greeted by a p...    disney+  ds1241   \n",
       "\n",
       "       duration_int duration_type  avg_rating  \n",
       "10993          74.0           min    3.389868  \n",
       "6517            1.0        season    3.549779  \n",
       "2950           58.0           min    3.564024  \n",
       "16229          86.0           min    3.494152  \n",
       "21868          91.0           min    3.557692  \n",
       "19509         100.0           min    3.513921  \n",
       "280           142.0           min    3.541580  \n",
       "7704           94.0           min    3.525000  \n",
       "12689           1.0        season    3.551948  \n",
       "10908           2.0           min    3.601293  "
      ]
     },
     "execution_count": 63,
     "metadata": {},
     "output_type": "execute_result"
    }
   ],
   "source": [
    "dfcatalogo.sample(10)"
   ]
  }
 ],
 "metadata": {
  "kernelspec": {
   "display_name": "Python 3",
   "language": "python",
   "name": "python3"
  },
  "language_info": {
   "codemirror_mode": {
    "name": "ipython",
    "version": 3
   },
   "file_extension": ".py",
   "mimetype": "text/x-python",
   "name": "python",
   "nbconvert_exporter": "python",
   "pygments_lexer": "ipython3",
   "version": "3.10.11"
  },
  "orig_nbformat": 4
 },
 "nbformat": 4,
 "nbformat_minor": 2
}
