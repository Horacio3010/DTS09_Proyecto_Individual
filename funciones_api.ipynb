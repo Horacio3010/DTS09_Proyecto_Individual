{
 "cells": [
  {
   "cell_type": "code",
   "execution_count": 1,
   "metadata": {},
   "outputs": [],
   "source": [
    "import pandas as pd\n",
    "import numpy as np"
   ]
  },
  {
   "cell_type": "code",
   "execution_count": 11,
   "metadata": {},
   "outputs": [],
   "source": [
    "\n",
    "# leer el archivo Parquet\n",
    "dfcatalogo = pd.read_parquet('dfcatalogo.parquet', engine='pyarrow')\n"
   ]
  },
  {
   "attachments": {},
   "cell_type": "markdown",
   "metadata": {},
   "source": [
    "funcion get max duration"
   ]
  },
  {
   "cell_type": "code",
   "execution_count": 12,
   "metadata": {},
   "outputs": [],
   "source": [
    "def get_max_duration(year: int, platform: str, duration_type: str) -> dict:\n",
    "    # Filtrar el dataframe por tipo de contenido, año y plataforma\n",
    "    filtered_df = dfcatalogo[(dfcatalogo['type'] == 'movie') & \n",
    "                            (dfcatalogo['release_year'] == year) & \n",
    "                            (dfcatalogo['plataforma'] == platform)]\n",
    "    \n",
    "    # Obtener la película con la duración máxima en el tipo especificado\n",
    "    max_duration = filtered_df[filtered_df['duration_type'] == duration_type]['duration_int'].max()\n",
    "    max_duration_movie = filtered_df[(filtered_df['duration_int'] == max_duration) &\n",
    "                                     (filtered_df['duration_type'] == duration_type)]['title'].values\n",
    "    \n",
    "    # Verificar que el array de resultados no está vacío antes de intentar acceder a su primer elemento\n",
    "    if len(max_duration_movie) > 0:\n",
    "        return {'pelicula': max_duration_movie[0]}\n",
    "    else:\n",
    "        return {'pelicula': ''}"
   ]
  },
  {
   "cell_type": "code",
   "execution_count": 5,
   "metadata": {},
   "outputs": [
    {
     "name": "stdout",
     "output_type": "stream",
     "text": [
      "La película con duración máxima en el año 2016 en la plataforma amazon en min es: {'pelicula': 'gentle evening rain'}\n"
     ]
    }
   ],
   "source": [
    "# Ejemplo de llamado a la función get_max_duration\n",
    "year = 2016\n",
    "platform = 'amazon'\n",
    "duration_type = 'min'\n",
    "\n",
    "max_duration_movie = get_max_duration(year, platform, duration_type)\n",
    "print(f'La película con duración máxima en el año {year} en la plataforma {platform} en {duration_type} es: {max_duration_movie}')"
   ]
  },
  {
   "attachments": {},
   "cell_type": "markdown",
   "metadata": {},
   "source": [
    "funcion get score count"
   ]
  },
  {
   "cell_type": "code",
   "execution_count": 6,
   "metadata": {},
   "outputs": [],
   "source": [
    "def get_score_count(df, plataforma, scored, anio):\n",
    "    # Seleccionar solo las películas de la plataforma y el año especificado\n",
    "    peliculas = df[(df['plataforma'] == plataforma) &\n",
    "                   (df['type'] == 'movie') &\n",
    "                   (df['release_year'] == anio)]\n",
    "    # Filtrar solo las películas con un puntaje mayor al especificado\n",
    "    peliculas_con_puntaje = peliculas[peliculas['avg_rating'] > scored]\n",
    "    # Obtener la cantidad de películas que cumplen los criterios\n",
    "    cantidad = len(peliculas_con_puntaje)\n",
    "    return {\n",
    "        'plataforma': plataforma,\n",
    "        'cantidad': cantidad,\n",
    "        'anio': anio,\n",
    "        'score': scored\n",
    "    }"
   ]
  },
  {
   "cell_type": "code",
   "execution_count": 7,
   "metadata": {},
   "outputs": [
    {
     "data": {
      "text/plain": [
       "{'plataforma': 'disney+', 'cantidad': 34, 'anio': 2014, 'score': 1.45}"
      ]
     },
     "execution_count": 7,
     "metadata": {},
     "output_type": "execute_result"
    }
   ],
   "source": [
    "get_score_count(dfcatalogo, 'disney+', 1.45, 2014)"
   ]
  },
  {
   "attachments": {},
   "cell_type": "markdown",
   "metadata": {},
   "source": [
    "funcion get count platform"
   ]
  },
  {
   "cell_type": "code",
   "execution_count": 8,
   "metadata": {},
   "outputs": [],
   "source": [
    "def get_count_platform(df, plataforma):\n",
    "    # Seleccionar solo las películas de la plataforma especificada\n",
    "    peliculas = df[(df['plataforma'] == plataforma) &\n",
    "                   (df['type'] == 'movie')]\n",
    "    # Obtener la cantidad de películas que cumplen los criterios\n",
    "    cantidad = len(peliculas)\n",
    "    return {\n",
    "        'plataforma': plataforma,\n",
    "        'peliculas': cantidad\n",
    "    }"
   ]
  },
  {
   "cell_type": "code",
   "execution_count": 9,
   "metadata": {},
   "outputs": [
    {
     "data": {
      "text/plain": [
       "{'plataforma': 'hulu', 'peliculas': 1484}"
      ]
     },
     "execution_count": 9,
     "metadata": {},
     "output_type": "execute_result"
    }
   ],
   "source": [
    "get_count_platform(dfcatalogo, 'hulu')"
   ]
  },
  {
   "attachments": {},
   "cell_type": "markdown",
   "metadata": {},
   "source": [
    "funcion get actor"
   ]
  },
  {
   "cell_type": "code",
   "execution_count": 9,
   "metadata": {},
   "outputs": [],
   "source": [
    "def get_actor(platform:str, year:int ):\n",
    "    df_filtered = dfcatalogo[(dfcatalogo['plataforma'] == platform) & (dfcatalogo['release_year'] == year)]\n",
    "    actor_count = {}\n",
    "    for actors in df_filtered['cast']:\n",
    "        if isinstance(actors, str):\n",
    "            for actor in actors.split(','):\n",
    "                actor_count[actor.strip()] = actor_count.get(actor.strip(), 0) + 1\n",
    "    if len(actor_count) == 0:\n",
    "        return \"No se encontraron actores\"\n",
    "    else:\n",
    "        return 'Actor que más se repite según plataforma y año:  ' + max(actor_count, key=actor_count.get)"
   ]
  },
  {
   "cell_type": "code",
   "execution_count": 17,
   "metadata": {},
   "outputs": [
    {
     "name": "stdout",
     "output_type": "stream",
     "text": [
      "Actor que más se repite según plataforma y año:  cassandra peterson\n"
     ]
    }
   ],
   "source": [
    "respuesta = get_actor('amazon', 2010)\n",
    "print(respuesta)"
   ]
  },
  {
   "attachments": {},
   "cell_type": "markdown",
   "metadata": {},
   "source": [
    "funcion prod per county"
   ]
  },
  {
   "cell_type": "code",
   "execution_count": 14,
   "metadata": {},
   "outputs": [],
   "source": [
    "def prod_per_county(tipo: str, pais: str, anio: int):\n",
    "    # Filtramos el DataFrame según el tipo de contenido, el país y el año\n",
    "    df_filtered = dfcatalogo[(dfcatalogo['type'] == tipo) & (dfcatalogo['country'] == pais) & (dfcatalogo['release_year'] == anio)]\n",
    "\n",
    "    # Contamos el número total de elementos del DataFrame filtrado\n",
    "    total_peliculas = df_filtered.shape[0]\n",
    "\n",
    "    return {'pais': pais, \n",
    "            'anio': anio, \n",
    "            'total de contenido': total_peliculas,\n",
    "            'tipo_contenido': tipo}"
   ]
  },
  {
   "cell_type": "code",
   "execution_count": 15,
   "metadata": {},
   "outputs": [
    {
     "name": "stdout",
     "output_type": "stream",
     "text": [
      "{'pais': 'france', 'anio': 2020, 'total de contenido': 8, 'tipo_contenido': 'tv show'}\n"
     ]
    }
   ],
   "source": [
    "respuesta = prod_per_county('tv show', 'france', 2020,)\n",
    "print(respuesta)"
   ]
  },
  {
   "attachments": {},
   "cell_type": "markdown",
   "metadata": {},
   "source": [
    "funcion get contents"
   ]
  },
  {
   "cell_type": "code",
   "execution_count": 16,
   "metadata": {},
   "outputs": [],
   "source": [
    "def get_contents(rating: str):\n",
    "    # Utilizamos value_counts para contar el número de contenidos según el rating de audiencia\n",
    "    contenido = dfcatalogo['rating'].value_counts().get(rating, 0)\n",
    "\n",
    "    return {'rating': rating, 'contenido': contenido}"
   ]
  },
  {
   "cell_type": "code",
   "execution_count": 17,
   "metadata": {},
   "outputs": [
    {
     "name": "stdout",
     "output_type": "stream",
     "text": [
      "{'rating': 'r', 'contenido': 2154}\n"
     ]
    }
   ],
   "source": [
    "respuesta = get_contents('r')\n",
    "print(respuesta)"
   ]
  },
  {
   "cell_type": "code",
   "execution_count": 8,
   "metadata": {},
   "outputs": [],
   "source": [
    "\n",
    "# guardar dataframe como archivo Parquet\n",
    "dfcatalogo.to_parquet('dfcatalogo.parquet')"
   ]
  }
 ],
 "metadata": {
  "kernelspec": {
   "display_name": "Python 3",
   "language": "python",
   "name": "python3"
  },
  "language_info": {
   "codemirror_mode": {
    "name": "ipython",
    "version": 3
   },
   "file_extension": ".py",
   "mimetype": "text/x-python",
   "name": "python",
   "nbconvert_exporter": "python",
   "pygments_lexer": "ipython3",
   "version": "3.10.11"
  },
  "orig_nbformat": 4
 },
 "nbformat": 4,
 "nbformat_minor": 2
}
