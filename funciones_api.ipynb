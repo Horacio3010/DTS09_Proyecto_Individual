{
 "cells": [
  {
   "cell_type": "code",
   "execution_count": 1,
   "metadata": {},
   "outputs": [],
   "source": [
    "import pandas as pd\n",
    "import numpy as np"
   ]
  },
  {
   "cell_type": "code",
   "execution_count": 2,
   "metadata": {},
   "outputs": [],
   "source": [
    "dfcatalogo = pd.read_csv(r'C:\\Users\\oomph\\Documents\\Henry Data Science\\DTS09_Proyecto_Individual\\df_catalogo_v2.csv')\n"
   ]
  },
  {
   "attachments": {},
   "cell_type": "markdown",
   "metadata": {},
   "source": [
    "funcion get max duration"
   ]
  },
  {
   "cell_type": "code",
   "execution_count": 4,
   "metadata": {},
   "outputs": [],
   "source": [
    "def get_max_duration(year: int, platform: str, duration_type: str) -> dict:\n",
    "    # Filtrar el dataframe por tipo de contenido, año y plataforma\n",
    "    filtered_df = dfcatalogo[(dfcatalogo['type'] == 'movie') & \n",
    "                            (dfcatalogo['release_year'] == year) & \n",
    "                            (dfcatalogo['plataforma'] == platform)]\n",
    "    \n",
    "    # Obtener la película con la duración máxima en el tipo especificado\n",
    "    max_duration = filtered_df[filtered_df['duration_type'] == duration_type]['duration_int'].max()\n",
    "    max_duration_movie = filtered_df[(filtered_df['duration_int'] == max_duration) &\n",
    "                                     (filtered_df['duration_type'] == duration_type)]['title'].values\n",
    "    \n",
    "    # Verificar que el array de resultados no está vacío antes de intentar acceder a su primer elemento\n",
    "    if len(max_duration_movie) > 0:\n",
    "        return {'pelicula': max_duration_movie[0]}\n",
    "    else:\n",
    "        return {'pelicula': ''}"
   ]
  },
  {
   "cell_type": "code",
   "execution_count": 5,
   "metadata": {},
   "outputs": [
    {
     "name": "stdout",
     "output_type": "stream",
     "text": [
      "La película con duración máxima en el año 2016 en la plataforma amazon en min es: {'pelicula': 'gentle evening rain'}\n"
     ]
    }
   ],
   "source": [
    "# Ejemplo de llamado a la función get_max_duration\n",
    "year = 2016\n",
    "platform = 'amazon'\n",
    "duration_type = 'min'\n",
    "\n",
    "max_duration_movie = get_max_duration(year, platform, duration_type)\n",
    "print(f'La película con duración máxima en el año {year} en la plataforma {platform} en {duration_type} es: {max_duration_movie}')"
   ]
  },
  {
   "attachments": {},
   "cell_type": "markdown",
   "metadata": {},
   "source": [
    "funcion get score count"
   ]
  },
  {
   "cell_type": "code",
   "execution_count": 6,
   "metadata": {},
   "outputs": [],
   "source": [
    "def get_score_count(df, plataforma, scored, anio):\n",
    "    # Seleccionar solo las películas de la plataforma y el año especificado\n",
    "    peliculas = df[(df['plataforma'] == plataforma) &\n",
    "                   (df['type'] == 'movie') &\n",
    "                   (df['release_year'] == anio)]\n",
    "    # Filtrar solo las películas con un puntaje mayor al especificado\n",
    "    peliculas_con_puntaje = peliculas[peliculas['avg_rating'] > scored]\n",
    "    # Obtener la cantidad de películas que cumplen los criterios\n",
    "    cantidad = len(peliculas_con_puntaje)\n",
    "    return {\n",
    "        'plataforma': plataforma,\n",
    "        'cantidad': cantidad,\n",
    "        'anio': anio,\n",
    "        'score': scored\n",
    "    }"
   ]
  },
  {
   "cell_type": "code",
   "execution_count": 7,
   "metadata": {},
   "outputs": [
    {
     "data": {
      "text/plain": [
       "{'plataforma': 'disney+', 'cantidad': 34, 'anio': 2014, 'score': 1.45}"
      ]
     },
     "execution_count": 7,
     "metadata": {},
     "output_type": "execute_result"
    }
   ],
   "source": [
    "get_score_count(dfcatalogo, 'disney+', 1.45, 2014)"
   ]
  },
  {
   "attachments": {},
   "cell_type": "markdown",
   "metadata": {},
   "source": [
    "funcion get count platform"
   ]
  },
  {
   "cell_type": "code",
   "execution_count": 8,
   "metadata": {},
   "outputs": [],
   "source": [
    "def get_count_platform(df, plataforma):\n",
    "    # Seleccionar solo las películas de la plataforma especificada\n",
    "    peliculas = df[(df['plataforma'] == plataforma) &\n",
    "                   (df['type'] == 'movie')]\n",
    "    # Obtener la cantidad de películas que cumplen los criterios\n",
    "    cantidad = len(peliculas)\n",
    "    return {\n",
    "        'plataforma': plataforma,\n",
    "        'peliculas': cantidad\n",
    "    }"
   ]
  },
  {
   "cell_type": "code",
   "execution_count": 9,
   "metadata": {},
   "outputs": [
    {
     "data": {
      "text/plain": [
       "{'plataforma': 'hulu', 'peliculas': 1484}"
      ]
     },
     "execution_count": 9,
     "metadata": {},
     "output_type": "execute_result"
    }
   ],
   "source": [
    "get_count_platform(dfcatalogo, 'hulu')"
   ]
  },
  {
   "attachments": {},
   "cell_type": "markdown",
   "metadata": {},
   "source": [
    "funcion get actor"
   ]
  },
  {
   "cell_type": "code",
   "execution_count": 10,
   "metadata": {},
   "outputs": [],
   "source": [
    "def get_actor(platform:str, year:int ):\n",
    "    df_filtered = dfcatalogo[(dfcatalogo['plataforma'] == platform) & (dfcatalogo['release_year'] == year)]\n",
    "    actor_count = {}\n",
    "    for actors in df_filtered['cast']:\n",
    "        if isinstance(actors, str):\n",
    "            for actor in actors.split(','):\n",
    "                actor_count[actor.strip()] = actor_count.get(actor.strip(), 0) + 1\n",
    "    if len(actor_count) == 0:\n",
    "        return \"No se encontraron actores\"\n",
    "    else:\n",
    "        return 'Actor que más se repite según plataforma y año:  ' + max(actor_count, key=actor_count.get)"
   ]
  },
  {
   "cell_type": "code",
   "execution_count": 11,
   "metadata": {},
   "outputs": [
    {
     "name": "stdout",
     "output_type": "stream",
     "text": [
      "Actor que más se repite según plataforma y año:  cassandra peterson\n"
     ]
    }
   ],
   "source": [
    "respuesta = get_actor('amazon', 2010)\n",
    "print(respuesta)"
   ]
  },
  {
   "attachments": {},
   "cell_type": "markdown",
   "metadata": {},
   "source": [
    "funcion prod per county"
   ]
  },
  {
   "cell_type": "code",
   "execution_count": 14,
   "metadata": {},
   "outputs": [],
   "source": [
    "def prod_per_county(tipo: str, pais: str, anio: int):\n",
    "    # Filtramos el DataFrame según el tipo de contenido, el país y el año\n",
    "    df_filtered = dfcatalogo[(dfcatalogo['type'] == tipo) & (dfcatalogo['country'] == pais) & (dfcatalogo['release_year'] == anio)]\n",
    "\n",
    "    # Contamos el número total de elementos del DataFrame filtrado\n",
    "    total_peliculas = df_filtered.shape[0]\n",
    "\n",
    "    return {'pais': pais, \n",
    "            'anio': anio, \n",
    "            'total de contenido': total_peliculas,\n",
    "            'tipo_contenido': tipo}"
   ]
  },
  {
   "cell_type": "code",
   "execution_count": 15,
   "metadata": {},
   "outputs": [
    {
     "name": "stdout",
     "output_type": "stream",
     "text": [
      "{'pais': 'france', 'anio': 2020, 'total de contenido': 8, 'tipo_contenido': 'tv show'}\n"
     ]
    }
   ],
   "source": [
    "respuesta = prod_per_county('tv show', 'france', 2020,)\n",
    "print(respuesta)"
   ]
  },
  {
   "attachments": {},
   "cell_type": "markdown",
   "metadata": {},
   "source": [
    "funcion get contents"
   ]
  },
  {
   "cell_type": "code",
   "execution_count": 16,
   "metadata": {},
   "outputs": [],
   "source": [
    "def get_contents(rating: str):\n",
    "    # Utilizamos value_counts para contar el número de contenidos según el rating de audiencia\n",
    "    contenido = dfcatalogo['rating'].value_counts().get(rating, 0)\n",
    "\n",
    "    return {'rating': rating, 'contenido': contenido}"
   ]
  },
  {
   "cell_type": "code",
   "execution_count": 17,
   "metadata": {},
   "outputs": [
    {
     "name": "stdout",
     "output_type": "stream",
     "text": [
      "{'rating': 'r', 'contenido': 2154}\n"
     ]
    }
   ],
   "source": [
    "respuesta = get_contents('r')\n",
    "print(respuesta)"
   ]
  },
  {
   "cell_type": "code",
   "execution_count": 18,
   "metadata": {},
   "outputs": [
    {
     "data": {
      "text/html": [
       "<div>\n",
       "<style scoped>\n",
       "    .dataframe tbody tr th:only-of-type {\n",
       "        vertical-align: middle;\n",
       "    }\n",
       "\n",
       "    .dataframe tbody tr th {\n",
       "        vertical-align: top;\n",
       "    }\n",
       "\n",
       "    .dataframe thead th {\n",
       "        text-align: right;\n",
       "    }\n",
       "</style>\n",
       "<table border=\"1\" class=\"dataframe\">\n",
       "  <thead>\n",
       "    <tr style=\"text-align: right;\">\n",
       "      <th></th>\n",
       "      <th>show_id</th>\n",
       "      <th>type</th>\n",
       "      <th>title</th>\n",
       "      <th>director</th>\n",
       "      <th>cast</th>\n",
       "      <th>country</th>\n",
       "      <th>date_added</th>\n",
       "      <th>release_year</th>\n",
       "      <th>rating</th>\n",
       "      <th>duration</th>\n",
       "      <th>listed_in</th>\n",
       "      <th>description</th>\n",
       "      <th>plataforma</th>\n",
       "      <th>movieId</th>\n",
       "      <th>duration_int</th>\n",
       "      <th>duration_type</th>\n",
       "      <th>avg_rating</th>\n",
       "    </tr>\n",
       "  </thead>\n",
       "  <tbody>\n",
       "    <tr>\n",
       "      <th>5563</th>\n",
       "      <td>s5564</td>\n",
       "      <td>movie</td>\n",
       "      <td>prisoner number a26188: surviving auschwitz</td>\n",
       "      <td>lisa bryer</td>\n",
       "      <td>NaN</td>\n",
       "      <td>NaN</td>\n",
       "      <td>NaN</td>\n",
       "      <td>2013</td>\n",
       "      <td>13+</td>\n",
       "      <td>44 min</td>\n",
       "      <td>documentary, special interest</td>\n",
       "      <td>the german invasion of poland in 1939 marked t...</td>\n",
       "      <td>amazon</td>\n",
       "      <td>as5564</td>\n",
       "      <td>44.0</td>\n",
       "      <td>min</td>\n",
       "      <td>3.563181</td>\n",
       "    </tr>\n",
       "    <tr>\n",
       "      <th>9172</th>\n",
       "      <td>s9173</td>\n",
       "      <td>movie</td>\n",
       "      <td>je suis a stand-up: eddie izzard abroad</td>\n",
       "      <td>paul tickell</td>\n",
       "      <td>eddie izzard</td>\n",
       "      <td>NaN</td>\n",
       "      <td>NaN</td>\n",
       "      <td>1996</td>\n",
       "      <td>18+</td>\n",
       "      <td>48 min</td>\n",
       "      <td>arts, entertainment, and culture, comedy, spec...</td>\n",
       "      <td>bbc2 documentary of eddie izzard's first foray...</td>\n",
       "      <td>amazon</td>\n",
       "      <td>as9173</td>\n",
       "      <td>48.0</td>\n",
       "      <td>min</td>\n",
       "      <td>3.531659</td>\n",
       "    </tr>\n",
       "    <tr>\n",
       "      <th>13479</th>\n",
       "      <td>s2362</td>\n",
       "      <td>movie</td>\n",
       "      <td>johnny reno</td>\n",
       "      <td>NaN</td>\n",
       "      <td>NaN</td>\n",
       "      <td>united states</td>\n",
       "      <td>2018-11-01</td>\n",
       "      <td>1966</td>\n",
       "      <td>tv-g</td>\n",
       "      <td>83 min</td>\n",
       "      <td>action, adventure</td>\n",
       "      <td>one man stands alone against the fury of mob j...</td>\n",
       "      <td>hulu</td>\n",
       "      <td>hs2362</td>\n",
       "      <td>83.0</td>\n",
       "      <td>min</td>\n",
       "      <td>3.571577</td>\n",
       "    </tr>\n",
       "    <tr>\n",
       "      <th>17533</th>\n",
       "      <td>s3343</td>\n",
       "      <td>tv show</td>\n",
       "      <td>queer eye: we're in japan!</td>\n",
       "      <td>NaN</td>\n",
       "      <td>bobby berk, karamo brown, tan france, antoni p...</td>\n",
       "      <td>united states, japan</td>\n",
       "      <td>2019-11-01</td>\n",
       "      <td>2019</td>\n",
       "      <td>tv-14</td>\n",
       "      <td>1 season</td>\n",
       "      <td>international tv shows, reality tv</td>\n",
       "      <td>the fab five touch down in tokyo to spread the...</td>\n",
       "      <td>netflix</td>\n",
       "      <td>ns3343</td>\n",
       "      <td>1.0</td>\n",
       "      <td>season</td>\n",
       "      <td>3.580550</td>\n",
       "    </tr>\n",
       "    <tr>\n",
       "      <th>10281</th>\n",
       "      <td>s614</td>\n",
       "      <td>movie</td>\n",
       "      <td>viking warrior women</td>\n",
       "      <td>stuart strickson</td>\n",
       "      <td>ella al-shamahi</td>\n",
       "      <td>united kingdom</td>\n",
       "      <td>2020-02-28</td>\n",
       "      <td>2019</td>\n",
       "      <td>tv-pg</td>\n",
       "      <td>44 min</td>\n",
       "      <td>documentary, historical</td>\n",
       "      <td>new discoveries challenge everything we though...</td>\n",
       "      <td>disney+</td>\n",
       "      <td>ds614</td>\n",
       "      <td>44.0</td>\n",
       "      <td>min</td>\n",
       "      <td>3.519651</td>\n",
       "    </tr>\n",
       "    <tr>\n",
       "      <th>19243</th>\n",
       "      <td>s5053</td>\n",
       "      <td>movie</td>\n",
       "      <td>liberated: the new sexual revolution</td>\n",
       "      <td>NaN</td>\n",
       "      <td>NaN</td>\n",
       "      <td>united states, mexico</td>\n",
       "      <td>2018-02-01</td>\n",
       "      <td>2017</td>\n",
       "      <td>tv-ma</td>\n",
       "      <td>86 min</td>\n",
       "      <td>documentaries</td>\n",
       "      <td>filmmakers explore how pop culture shapes a ne...</td>\n",
       "      <td>netflix</td>\n",
       "      <td>ns5053</td>\n",
       "      <td>86.0</td>\n",
       "      <td>min</td>\n",
       "      <td>3.542074</td>\n",
       "    </tr>\n",
       "    <tr>\n",
       "      <th>3081</th>\n",
       "      <td>s3082</td>\n",
       "      <td>tv show</td>\n",
       "      <td>bhoomi hindi</td>\n",
       "      <td>NaN</td>\n",
       "      <td>naziya sheik, arun babu</td>\n",
       "      <td>NaN</td>\n",
       "      <td>NaN</td>\n",
       "      <td>2021</td>\n",
       "      <td>18+</td>\n",
       "      <td>1 season</td>\n",
       "      <td>drama</td>\n",
       "      <td>bhoomi got raped by a well know business man s...</td>\n",
       "      <td>amazon</td>\n",
       "      <td>as3082</td>\n",
       "      <td>1.0</td>\n",
       "      <td>season</td>\n",
       "      <td>3.582292</td>\n",
       "    </tr>\n",
       "    <tr>\n",
       "      <th>8956</th>\n",
       "      <td>s8957</td>\n",
       "      <td>movie</td>\n",
       "      <td>elvira's movie macabre: scared to death</td>\n",
       "      <td>d.j. viola, christy cabanne</td>\n",
       "      <td>cassandra peterson</td>\n",
       "      <td>NaN</td>\n",
       "      <td>NaN</td>\n",
       "      <td>2010</td>\n",
       "      <td>16+</td>\n",
       "      <td>90 min</td>\n",
       "      <td>comedy, horror, suspense</td>\n",
       "      <td>a revamping, if you will, of the 1980's classi...</td>\n",
       "      <td>amazon</td>\n",
       "      <td>as8957</td>\n",
       "      <td>90.0</td>\n",
       "      <td>min</td>\n",
       "      <td>3.565760</td>\n",
       "    </tr>\n",
       "    <tr>\n",
       "      <th>1271</th>\n",
       "      <td>s1272</td>\n",
       "      <td>movie</td>\n",
       "      <td>prayer never fails</td>\n",
       "      <td>wes miller</td>\n",
       "      <td>corbin bernsen, lorenzo lamas, eric roberts, n...</td>\n",
       "      <td>NaN</td>\n",
       "      <td>NaN</td>\n",
       "      <td>2017</td>\n",
       "      <td>7+</td>\n",
       "      <td>98 min</td>\n",
       "      <td>drama, faith and spirituality</td>\n",
       "      <td>when a high school basketball coach is fired f...</td>\n",
       "      <td>amazon</td>\n",
       "      <td>as1272</td>\n",
       "      <td>98.0</td>\n",
       "      <td>min</td>\n",
       "      <td>3.459432</td>\n",
       "    </tr>\n",
       "    <tr>\n",
       "      <th>19692</th>\n",
       "      <td>s5502</td>\n",
       "      <td>movie</td>\n",
       "      <td>he even has your eyes</td>\n",
       "      <td>lucien jean-baptiste</td>\n",
       "      <td>lucien jean-baptiste, aissa maiga, zabou breit...</td>\n",
       "      <td>france, belgium</td>\n",
       "      <td>2017-05-01</td>\n",
       "      <td>2016</td>\n",
       "      <td>tv-ma</td>\n",
       "      <td>95 min</td>\n",
       "      <td>comedies, international movies</td>\n",
       "      <td>when french-african couple paul and sali disco...</td>\n",
       "      <td>netflix</td>\n",
       "      <td>ns5502</td>\n",
       "      <td>95.0</td>\n",
       "      <td>min</td>\n",
       "      <td>3.513752</td>\n",
       "    </tr>\n",
       "  </tbody>\n",
       "</table>\n",
       "</div>"
      ],
      "text/plain": [
       "      show_id     type                                        title  \\\n",
       "5563    s5564    movie  prisoner number a26188: surviving auschwitz   \n",
       "9172    s9173    movie      je suis a stand-up: eddie izzard abroad   \n",
       "13479   s2362    movie                                  johnny reno   \n",
       "17533   s3343  tv show                   queer eye: we're in japan!   \n",
       "10281    s614    movie                         viking warrior women   \n",
       "19243   s5053    movie         liberated: the new sexual revolution   \n",
       "3081    s3082  tv show                                 bhoomi hindi   \n",
       "8956    s8957    movie      elvira's movie macabre: scared to death   \n",
       "1271    s1272    movie                           prayer never fails   \n",
       "19692   s5502    movie                        he even has your eyes   \n",
       "\n",
       "                          director  \\\n",
       "5563                    lisa bryer   \n",
       "9172                  paul tickell   \n",
       "13479                          NaN   \n",
       "17533                          NaN   \n",
       "10281             stuart strickson   \n",
       "19243                          NaN   \n",
       "3081                           NaN   \n",
       "8956   d.j. viola, christy cabanne   \n",
       "1271                    wes miller   \n",
       "19692         lucien jean-baptiste   \n",
       "\n",
       "                                                    cast  \\\n",
       "5563                                                 NaN   \n",
       "9172                                        eddie izzard   \n",
       "13479                                                NaN   \n",
       "17533  bobby berk, karamo brown, tan france, antoni p...   \n",
       "10281                                    ella al-shamahi   \n",
       "19243                                                NaN   \n",
       "3081                             naziya sheik, arun babu   \n",
       "8956                                  cassandra peterson   \n",
       "1271   corbin bernsen, lorenzo lamas, eric roberts, n...   \n",
       "19692  lucien jean-baptiste, aissa maiga, zabou breit...   \n",
       "\n",
       "                     country  date_added  release_year rating  duration  \\\n",
       "5563                     NaN         NaN          2013    13+    44 min   \n",
       "9172                     NaN         NaN          1996    18+    48 min   \n",
       "13479          united states  2018-11-01          1966   tv-g    83 min   \n",
       "17533   united states, japan  2019-11-01          2019  tv-14  1 season   \n",
       "10281         united kingdom  2020-02-28          2019  tv-pg    44 min   \n",
       "19243  united states, mexico  2018-02-01          2017  tv-ma    86 min   \n",
       "3081                     NaN         NaN          2021    18+  1 season   \n",
       "8956                     NaN         NaN          2010    16+    90 min   \n",
       "1271                     NaN         NaN          2017     7+    98 min   \n",
       "19692        france, belgium  2017-05-01          2016  tv-ma    95 min   \n",
       "\n",
       "                                               listed_in  \\\n",
       "5563                       documentary, special interest   \n",
       "9172   arts, entertainment, and culture, comedy, spec...   \n",
       "13479                                  action, adventure   \n",
       "17533                 international tv shows, reality tv   \n",
       "10281                            documentary, historical   \n",
       "19243                                      documentaries   \n",
       "3081                                               drama   \n",
       "8956                            comedy, horror, suspense   \n",
       "1271                       drama, faith and spirituality   \n",
       "19692                     comedies, international movies   \n",
       "\n",
       "                                             description plataforma movieId  \\\n",
       "5563   the german invasion of poland in 1939 marked t...     amazon  as5564   \n",
       "9172   bbc2 documentary of eddie izzard's first foray...     amazon  as9173   \n",
       "13479  one man stands alone against the fury of mob j...       hulu  hs2362   \n",
       "17533  the fab five touch down in tokyo to spread the...    netflix  ns3343   \n",
       "10281  new discoveries challenge everything we though...    disney+   ds614   \n",
       "19243  filmmakers explore how pop culture shapes a ne...    netflix  ns5053   \n",
       "3081   bhoomi got raped by a well know business man s...     amazon  as3082   \n",
       "8956   a revamping, if you will, of the 1980's classi...     amazon  as8957   \n",
       "1271   when a high school basketball coach is fired f...     amazon  as1272   \n",
       "19692  when french-african couple paul and sali disco...    netflix  ns5502   \n",
       "\n",
       "       duration_int duration_type  avg_rating  \n",
       "5563           44.0           min    3.563181  \n",
       "9172           48.0           min    3.531659  \n",
       "13479          83.0           min    3.571577  \n",
       "17533           1.0        season    3.580550  \n",
       "10281          44.0           min    3.519651  \n",
       "19243          86.0           min    3.542074  \n",
       "3081            1.0        season    3.582292  \n",
       "8956           90.0           min    3.565760  \n",
       "1271           98.0           min    3.459432  \n",
       "19692          95.0           min    3.513752  "
      ]
     },
     "execution_count": 18,
     "metadata": {},
     "output_type": "execute_result"
    }
   ],
   "source": [
    "dfcatalogo.sample(10)"
   ]
  }
 ],
 "metadata": {
  "kernelspec": {
   "display_name": "Python 3",
   "language": "python",
   "name": "python3"
  },
  "language_info": {
   "codemirror_mode": {
    "name": "ipython",
    "version": 3
   },
   "file_extension": ".py",
   "mimetype": "text/x-python",
   "name": "python",
   "nbconvert_exporter": "python",
   "pygments_lexer": "ipython3",
   "version": "3.10.11"
  },
  "orig_nbformat": 4
 },
 "nbformat": 4,
 "nbformat_minor": 2
}
